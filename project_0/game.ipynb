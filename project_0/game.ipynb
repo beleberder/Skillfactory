{
 "cells": [
  {
   "cell_type": "code",
   "execution_count": 1,
   "source": [
    "import game as gm\n",
    "\n",
    "print(gm.game_score(1000))"
   ],
   "outputs": [
    {
     "output_type": "stream",
     "name": "stdout",
     "text": [
      "5.797\n"
     ]
    }
   ],
   "metadata": {}
  }
 ],
 "metadata": {
  "orig_nbformat": 4,
  "language_info": {
   "name": "python",
   "version": "3.8.11",
   "mimetype": "text/x-python",
   "codemirror_mode": {
    "name": "ipython",
    "version": 3
   },
   "pygments_lexer": "ipython3",
   "nbconvert_exporter": "python",
   "file_extension": ".py"
  },
  "kernelspec": {
   "name": "python3",
   "display_name": "Python 3.8.11 64-bit ('sf': conda)"
  },
  "interpreter": {
   "hash": "72b6dd61986e6acd4bcede6f9021a749178af87ea508634e4a30729164fc333b"
  }
 },
 "nbformat": 4,
 "nbformat_minor": 2
}